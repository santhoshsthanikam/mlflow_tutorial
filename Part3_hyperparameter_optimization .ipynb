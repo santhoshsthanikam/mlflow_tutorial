{
 "cells": [
  {
   "cell_type": "code",
   "execution_count": null,
   "id": "8f68619a",
   "metadata": {},
   "outputs": [],
   "source": [
    "import mlflow\n",
    "from flash.core.data.utils import download_data\n",
    "\n",
    "import logging\n",
    "import os\n",
    "import flash\n",
    "import torchmetrics\n",
    "from flash.text import TextClassificationData, TextClassifier\n",
    "\n",
    "from ray import tune\n",
    "from ray.tune.integration.mlflow import mlflow_mixin\n",
    "from ray.tune.integration.pytorch_lightning import TuneReportCallback\n",
    "from ray.tune.suggest import ConcurrencyLimiter\n",
    "from ray.tune.schedulers import AsyncHyperBandScheduler\n",
    "from ray.tune.suggest.optuna import OptunaSearch"
   ]
  },
  {
   "cell_type": "code",
   "execution_count": null,
   "id": "a440ba4f",
   "metadata": {},
   "outputs": [],
   "source": [
    "EXPERIMENT_NAME = \"hyperparameter_optimization_flash\"\n",
    "mlflow.set_tracking_uri('http://localhost:8004')\n",
    "mlflow.set_experiment(EXPERIMENT_NAME)\n",
    "experiment = mlflow.get_experiment_by_name(EXPERIMENT_NAME)\n",
    "print(\"experiment_id:\", experiment.experiment_id)"
   ]
  },
  {
   "cell_type": "code",
   "execution_count": null,
   "id": "4c5a2203",
   "metadata": {},
   "outputs": [],
   "source": [
    "download_data('https://pl-flash-data.s3.amazonaws.com/imdb.zip', './data')"
   ]
  },
  {
   "cell_type": "code",
   "execution_count": null,
   "id": "d5a2e59d",
   "metadata": {},
   "outputs": [],
   "source": [
    "@mlflow_mixin\n",
    "def finetuning_dl_model(config, data_dir=None, num_epochs=3, num_gpus=0):\n",
    "    datamodule = TextClassificationData.from_csv(\n",
    "        input_field=\"review\",\n",
    "        target_fields=\"sentiment\",\n",
    "        train_file=f\"{data_dir}/imdb/train.csv\",\n",
    "        val_file=f\"{data_dir}/imdb/valid.csv\",\n",
    "        test_file=f\"{data_dir}/imdb/test.csv\",\n",
    "        batch_size=config['batch_size']\n",
    "    )\n",
    "\n",
    "\n",
    "    classifier_model = TextClassifier(backbone=config['foundation_model'],\n",
    "                                      learning_rate=config['lr'],\n",
    "                                      optimizer=config['optimizer_type'],\n",
    "                                      num_classes=datamodule.num_classes,\n",
    "                                      metrics=torchmetrics.F1(datamodule.num_classes)\n",
    "                                      )\n",
    "    mlflow.pytorch.autolog()\n",
    "    metrics = {\"loss\": \"val_cross_entropy\", \"f1\": \"val_f1\"}\n",
    "    trainer = flash.Trainer(max_epochs=num_epochs,\n",
    "                            gpus=num_gpus,\n",
    "                            progress_bar_refresh_rate=0,\n",
    "                            callbacks=[TuneReportCallback(metrics, on='validation_end')])\n",
    "    \n",
    "    trainer.finetune(classifier_model, datamodule=datamodule, strategy=config['finetuning_strategies'])\n",
    "    mlflow.log_param('batch_size',config['batch_size'])"
   ]
  },
  {
   "cell_type": "code",
   "execution_count": null,
   "id": "57a96b6e",
   "metadata": {},
   "outputs": [],
   "source": [
    "def run_hpo_dl_model(num_samples=10,\n",
    "                     num_epochs=3,\n",
    "                     gpus_per_trial=0,\n",
    "                     tracking_uri=None,\n",
    "                     experiment_name=\"hpo-tuning-chapter06\"):\n",
    "\n",
    "    data_dir = os.path.join(os.getcwd(), \"data\")\n",
    "\n",
    "    # Set the MLflow experiment, or create it if it does not exist.\n",
    "    mlflow.set_tracking_uri(tracking_uri)\n",
    "    mlflow.set_experiment(experiment_name)\n",
    "\n",
    "    # define search algo and scheduler\n",
    "    searcher = OptunaSearch()\n",
    "    searcher = ConcurrencyLimiter(searcher, max_concurrent=4)\n",
    "    scheduler = AsyncHyperBandScheduler()\n",
    "\n",
    "    config = {\n",
    "        \"lr\": tune.loguniform(1e-4, 1e-1),\n",
    "        \"batch_size\": tune.choice([32, 64, 128]),\n",
    "        \"foundation_model\": \"prajjwal1/bert-tiny\",\n",
    "        \"finetuning_strategies\": \"freeze\",\n",
    "        \"optimizer_type\": \"Adam\",\n",
    "        \"mlflow\": {\n",
    "            \"experiment_name\": experiment_name,\n",
    "            \"tracking_uri\": mlflow.get_tracking_uri()\n",
    "        },\n",
    "    }\n",
    "\n",
    "    trainable = tune.with_parameters(\n",
    "        finetuning_dl_model,\n",
    "        data_dir=data_dir,\n",
    "        num_epochs=num_epochs,\n",
    "        num_gpus=gpus_per_trial)\n",
    "\n",
    "    analysis = tune.run(\n",
    "        trainable,\n",
    "        resources_per_trial={\n",
    "            \"cpu\": 1,\n",
    "            \"gpu\": gpus_per_trial\n",
    "        },\n",
    "        metric=\"f1\",\n",
    "        mode=\"max\",\n",
    "        config=config,\n",
    "        num_samples=num_samples,\n",
    "        search_alg=searcher,\n",
    "        scheduler=scheduler,\n",
    "        name=\"hpo_tuning_dl_model\")\n",
    "    \n",
    "    logger.info(\"Best hyperparameters found were: %s\", analysis.best_config)\n"
   ]
  },
  {
   "cell_type": "code",
   "execution_count": null,
   "id": "534a0596",
   "metadata": {},
   "outputs": [],
   "source": [
    "def task():\n",
    "    run_hpo_dl_model(num_samples=10,\n",
    "                     num_epochs=3,\n",
    "                     gpus_per_trial=0,\n",
    "                     tracking_uri=\"http://devpcbmdalgwcoc01.w3-969.ibm.com:8004\",\n",
    "                     experiment_name=\"hyperparameter_optimization_flash\")"
   ]
  },
  {
   "cell_type": "code",
   "execution_count": null,
   "id": "a000e181",
   "metadata": {},
   "outputs": [],
   "source": [
    "task()"
   ]
  },
  {
   "cell_type": "code",
   "execution_count": null,
   "id": "a5857c06",
   "metadata": {
    "scrolled": true
   },
   "outputs": [],
   "source": []
  },
  {
   "cell_type": "code",
   "execution_count": null,
   "id": "502f94fd",
   "metadata": {},
   "outputs": [],
   "source": []
  }
 ],
 "metadata": {
  "kernelspec": {
   "display_name": "Python (tf-test)",
   "language": "python",
   "name": "tf-test"
  },
  "language_info": {
   "codemirror_mode": {
    "name": "ipython",
    "version": 3
   },
   "file_extension": ".py",
   "mimetype": "text/x-python",
   "name": "python",
   "nbconvert_exporter": "python",
   "pygments_lexer": "ipython3",
   "version": "3.7.12"
  }
 },
 "nbformat": 4,
 "nbformat_minor": 5
}
